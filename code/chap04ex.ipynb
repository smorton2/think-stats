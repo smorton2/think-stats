{
 "cells": [
  {
   "cell_type": "markdown",
   "metadata": {},
   "source": [
    "# Examples and Exercises from Think Stats, 2nd Edition\n",
    "\n",
    "http://thinkstats2.com\n",
    "\n",
    "Copyright 2016 Allen B. Downey\n",
    "\n",
    "MIT License: https://opensource.org/licenses/MIT\n"
   ]
  },
  {
   "cell_type": "code",
   "execution_count": 1,
   "metadata": {
    "collapsed": true
   },
   "outputs": [],
   "source": [
    "from __future__ import print_function, division\n",
    "\n",
    "%matplotlib inline\n",
    "\n",
    "import numpy as np\n",
    "\n",
    "import nsfg\n",
    "import first\n",
    "import thinkstats2\n",
    "import thinkplot"
   ]
  },
  {
   "cell_type": "markdown",
   "metadata": {},
   "source": [
    "## Examples\n",
    "\n",
    "One more time, I'll load the data from the NSFG."
   ]
  },
  {
   "cell_type": "code",
   "execution_count": 2,
   "metadata": {
    "collapsed": true
   },
   "outputs": [],
   "source": [
    "live, firsts, others = first.MakeFrames()"
   ]
  },
  {
   "cell_type": "markdown",
   "metadata": {},
   "source": [
    "And compute the distribution of birth weight for first babies and others."
   ]
  },
  {
   "cell_type": "code",
   "execution_count": 3,
   "metadata": {},
   "outputs": [
    {
     "name": "stdout",
     "output_type": "stream",
     "text": [
      "Firsts 4413 4363\n",
      "Others 4735 4675\n"
     ]
    }
   ],
   "source": [
    "first_wgt = firsts.totalwgt_lb\n",
    "first_wgt_dropna = first_wgt.dropna()\n",
    "print('Firsts', len(first_wgt), len(first_wgt_dropna))\n",
    " \n",
    "other_wgt = others.totalwgt_lb\n",
    "other_wgt_dropna = other_wgt.dropna()\n",
    "print('Others', len(other_wgt), len(other_wgt_dropna))\n",
    "\n",
    "first_pmf = thinkstats2.Pmf(first_wgt_dropna, label='first')\n",
    "other_pmf = thinkstats2.Pmf(other_wgt_dropna, label='other')"
   ]
  },
  {
   "cell_type": "markdown",
   "metadata": {},
   "source": [
    "We can plot the PMFs on the same scale, but it is hard to see if there is a difference."
   ]
  },
  {
   "cell_type": "code",
   "execution_count": 4,
   "metadata": {},
   "outputs": [
    {
     "data": {
      "image/png": "[encoded data removed]",
      "text/plain": [
       "<matplotlib.figure.Figure at 0x10f47d350>"
      ]
     },
     "metadata": {},
     "output_type": "display_data"
    }
   ],
   "source": [
    "width = 0.4 / 16\n",
    "\n",
    "# plot PMFs of birth weights for first babies and others\n",
    "thinkplot.PrePlot(2)\n",
    "thinkplot.Hist(first_pmf, align='right', width=width)\n",
    "thinkplot.Hist(other_pmf, align='left', width=width)\n",
    "thinkplot.Config(xlabel='Weight (pounds)', ylabel='PMF')"
   ]
  },
  {
   "cell_type": "markdown",
   "metadata": {},
   "source": [
    "`PercentileRank` computes the fraction of `scores` less than or equal to `your_score`."
   ]
  },
  {
   "cell_type": "code",
   "execution_count": 5,
   "metadata": {
    "collapsed": true
   },
   "outputs": [],
   "source": [
    "def PercentileRank(scores, your_score):\n",
    "    count = 0\n",
    "    for score in scores:\n",
    "        if score <= your_score:\n",
    "            count += 1\n",
    "\n",
    "    percentile_rank = 100.0 * count / len(scores)\n",
    "    return percentile_rank"
   ]
  },
  {
   "cell_type": "markdown",
   "metadata": {},
   "source": [
    "If this is the list of scores."
   ]
  },
  {
   "cell_type": "code",
   "execution_count": 6,
   "metadata": {
    "collapsed": true
   },
   "outputs": [],
   "source": [
    "t = [55, 66, 77, 88, 99]"
   ]
  },
  {
   "cell_type": "markdown",
   "metadata": {},
   "source": [
    "And you got the 88, your percentile rank is 80."
   ]
  },
  {
   "cell_type": "code",
   "execution_count": 7,
   "metadata": {},
   "outputs": [
    {
     "data": {
      "text/plain": [
       "80.0"
      ]
     },
     "execution_count": 7,
     "metadata": {},
     "output_type": "execute_result"
    }
   ],
   "source": [
    "PercentileRank(t, 88)"
   ]
  },
  {
   "cell_type": "markdown",
   "metadata": {},
   "source": [
    "`Percentile` takes a percentile rank and computes the corresponding percentile. "
   ]
  },
  {
   "cell_type": "code",
   "execution_count": 8,
   "metadata": {
    "collapsed": true
   },
   "outputs": [],
   "source": [
    "def Percentile(scores, percentile_rank):\n",
    "    scores.sort()\n",
    "    for score in scores:\n",
    "        if PercentileRank(scores, score) >= percentile_rank:\n",
    "            return score"
   ]
  },
  {
   "cell_type": "markdown",
   "metadata": {},
   "source": [
    "The median is the 50th percentile, which is 77."
   ]
  },
  {
   "cell_type": "code",
   "execution_count": 9,
   "metadata": {},
   "outputs": [
    {
     "data": {
      "text/plain": [
       "77"
      ]
     },
     "execution_count": 9,
     "metadata": {},
     "output_type": "execute_result"
    }
   ],
   "source": [
    "Percentile(t, 50)"
   ]
  },
  {
   "cell_type": "markdown",
   "metadata": {},
   "source": [
    "Here's a more efficient way to compute percentiles."
   ]
  },
  {
   "cell_type": "code",
   "execution_count": 10,
   "metadata": {
    "collapsed": true
   },
   "outputs": [],
   "source": [
    "def Percentile2(scores, percentile_rank):\n",
    "    scores.sort()\n",
    "    index = percentile_rank * (len(scores)-1) // 100\n",
    "    return scores[index]"
   ]
  },
  {
   "cell_type": "markdown",
   "metadata": {},
   "source": [
    "Let's hope we get the same answer."
   ]
  },
  {
   "cell_type": "code",
   "execution_count": 11,
   "metadata": {},
   "outputs": [
    {
     "data": {
      "text/plain": [
       "77"
      ]
     },
     "execution_count": 11,
     "metadata": {},
     "output_type": "execute_result"
    }
   ],
   "source": [
    "Percentile2(t, 50)"
   ]
  },
  {
   "cell_type": "markdown",
   "metadata": {},
   "source": [
    "The Cumulative Distribution Function (CDF) is almost the same as `PercentileRank`.  The only difference is that the result is 0-1 instead of 0-100."
   ]
  },
  {
   "cell_type": "code",
   "execution_count": 12,
   "metadata": {
    "collapsed": true
   },
   "outputs": [],
   "source": [
    "def EvalCdf(sample, x):\n",
    "    count = 0.0\n",
    "    for value in sample:\n",
    "        if value <= x:\n",
    "            count += 1\n",
    "\n",
    "    prob = count / len(sample)\n",
    "    return prob"
   ]
  },
  {
   "cell_type": "markdown",
   "metadata": {},
   "source": [
    "In this list"
   ]
  },
  {
   "cell_type": "code",
   "execution_count": 13,
   "metadata": {
    "collapsed": true
   },
   "outputs": [],
   "source": [
    "t = [1, 2, 2, 3, 5]"
   ]
  },
  {
   "cell_type": "markdown",
   "metadata": {},
   "source": [
    "We can evaluate the CDF for various values:"
   ]
  },
  {
   "cell_type": "code",
   "execution_count": 14,
   "metadata": {},
   "outputs": [
    {
     "data": {
      "text/plain": [
       "(0.0, 0.2, 0.6, 0.8, 0.8, 1.0)"
      ]
     },
     "execution_count": 14,
     "metadata": {},
     "output_type": "execute_result"
    }
   ],
   "source": [
    "EvalCdf(t, 0), EvalCdf(t, 1), EvalCdf(t, 2), EvalCdf(t, 3), EvalCdf(t, 4), EvalCdf(t, 5)"
   ]
  },
  {
   "cell_type": "markdown",
   "metadata": {},
   "source": [
    "Here's an example using real data, the distribution of pregnancy length for live births."
   ]
  },
  {
   "cell_type": "code",
   "execution_count": 15,
   "metadata": {},
   "outputs": [
    {
     "data": {
      "image/png": "[encoded data removed]",
      "text/plain": [
       "<matplotlib.figure.Figure at 0x11ae51e10>"
      ]
     },
     "metadata": {},
     "output_type": "display_data"
    }
   ],
   "source": [
    "cdf = thinkstats2.Cdf(live.prglngth, label='prglngth')\n",
    "thinkplot.Cdf(cdf)\n",
    "thinkplot.Config(xlabel='Pregnancy length (weeks)', ylabel='CDF', loc='upper left')"
   ]
  },
  {
   "cell_type": "markdown",
   "metadata": {},
   "source": [
    "`Cdf` provides `Prob`, which evaluates the CDF; that is, it computes the fraction of values less than or equal to the given value.  For example, 94% of pregnancy lengths are less than or equal to 41."
   ]
  },
  {
   "cell_type": "code",
   "execution_count": 16,
   "metadata": {},
   "outputs": [
    {
     "data": {
      "text/plain": [
       "0.94064276344556186"
      ]
     },
     "execution_count": 16,
     "metadata": {},
     "output_type": "execute_result"
    }
   ],
   "source": [
    "cdf.Prob(41)"
   ]
  },
  {
   "cell_type": "markdown",
   "metadata": {
    "collapsed": true
   },
   "source": [
    "`Value` evaluates the inverse CDF; given a fraction, it computes the corresponding value.  For example, the median is the value that corresponds to 0.5."
   ]
  },
  {
   "cell_type": "code",
   "execution_count": 17,
   "metadata": {},
   "outputs": [
    {
     "data": {
      "text/plain": [
       "39"
      ]
     },
     "execution_count": 17,
     "metadata": {},
     "output_type": "execute_result"
    }
   ],
   "source": [
    "cdf.Value(0.5)"
   ]
  },
  {
   "cell_type": "markdown",
   "metadata": {},
   "source": [
    "In general, CDFs are a good way to visualize distributions.  They are not as noisy as PMFs, and if you plot several CDFs on the same axes, any differences between them are apparent."
   ]
  },
  {
   "cell_type": "code",
   "execution_count": 18,
   "metadata": {},
   "outputs": [
    {
     "data": {
      "image/png": "[encoded data removed]",
      "text/plain": [
       "<matplotlib.figure.Figure at 0x10f458fd0>"
      ]
     },
     "metadata": {},
     "output_type": "display_data"
    }
   ],
   "source": [
    "first_cdf = thinkstats2.Cdf(firsts.totalwgt_lb, label='first')\n",
    "other_cdf = thinkstats2.Cdf(others.totalwgt_lb, label='other')\n",
    "\n",
    "thinkplot.PrePlot(2)\n",
    "thinkplot.Cdfs([first_cdf, other_cdf])\n",
    "thinkplot.Config(xlabel='Weight (pounds)', ylabel='CDF')"
   ]
  },
  {
   "cell_type": "markdown",
   "metadata": {},
   "source": [
    "In this example, we can see that first babies are slightly, but consistently, lighter than others.\n",
    "\n",
    "We can use the CDF of birth weight to compute percentile-based statistics."
   ]
  },
  {
   "cell_type": "code",
   "execution_count": 19,
   "metadata": {
    "collapsed": true
   },
   "outputs": [],
   "source": [
    "weights = live.totalwgt_lb\n",
    "live_cdf = thinkstats2.Cdf(weights, label='live')"
   ]
  },
  {
   "cell_type": "markdown",
   "metadata": {},
   "source": [
    "Again, the median is the 50th percentile."
   ]
  },
  {
   "cell_type": "code",
   "execution_count": 20,
   "metadata": {},
   "outputs": [
    {
     "data": {
      "text/plain": [
       "7.375"
      ]
     },
     "execution_count": 20,
     "metadata": {},
     "output_type": "execute_result"
    }
   ],
   "source": [
    "median = live_cdf.Percentile(50)\n",
    "median"
   ]
  },
  {
   "cell_type": "markdown",
   "metadata": {},
   "source": [
    "The interquartile range is the interval from the 25th to 75th percentile."
   ]
  },
  {
   "cell_type": "code",
   "execution_count": 21,
   "metadata": {},
   "outputs": [
    {
     "data": {
      "text/plain": [
       "(6.5, 8.125)"
      ]
     },
     "execution_count": 21,
     "metadata": {},
     "output_type": "execute_result"
    }
   ],
   "source": [
    "iqr = (live_cdf.Percentile(25), live_cdf.Percentile(75))\n",
    "iqr"
   ]
  },
  {
   "cell_type": "markdown",
   "metadata": {},
   "source": [
    "We can use the CDF to look up the percentile rank of a particular value.  For example, my second daughter was 10.2 pounds at birth, which is near the 99th percentile."
   ]
  },
  {
   "cell_type": "code",
   "execution_count": 22,
   "metadata": {},
   "outputs": [
    {
     "data": {
      "text/plain": [
       "98.827174153573807"
      ]
     },
     "execution_count": 22,
     "metadata": {},
     "output_type": "execute_result"
    }
   ],
   "source": [
    "live_cdf.PercentileRank(10.2)"
   ]
  },
  {
   "cell_type": "markdown",
   "metadata": {},
   "source": [
    "If we draw a random sample from the observed weights and map each weigh to its percentile rank."
   ]
  },
  {
   "cell_type": "code",
   "execution_count": 23,
   "metadata": {
    "collapsed": true
   },
   "outputs": [],
   "source": [
    "sample = np.random.choice(weights, 100, replace=True)\n",
    "ranks = [live_cdf.PercentileRank(x) for x in sample]"
   ]
  },
  {
   "cell_type": "markdown",
   "metadata": {},
   "source": [
    "The resulting list of ranks should be approximately uniform from 0-1."
   ]
  },
  {
   "cell_type": "code",
   "execution_count": 24,
   "metadata": {},
   "outputs": [
    {
     "data": {
      "image/png": "[encoded data removed]",
      "text/plain": [
       "<matplotlib.figure.Figure at 0x1242bf490>"
      ]
     },
     "metadata": {},
     "output_type": "display_data"
    }
   ],
   "source": [
    "rank_cdf = thinkstats2.Cdf(ranks)\n",
    "thinkplot.Cdf(rank_cdf)\n",
    "thinkplot.Config(xlabel='Percentile rank', ylabel='CDF')"
   ]
  },
  {
   "cell_type": "markdown",
   "metadata": {},
   "source": [
    "That observation is the basis of `Cdf.Sample`, which generates a random sample from a Cdf.  Here's an example."
   ]
  },
  {
   "cell_type": "code",
   "execution_count": 25,
   "metadata": {},
   "outputs": [
    {
     "data": {
      "image/png": "[encoded data removed]",
      "text/plain": [
       "<matplotlib.figure.Figure at 0x12417f290>"
      ]
     },
     "metadata": {},
     "output_type": "display_data"
    }
   ],
   "source": [
    "resample = live_cdf.Sample(1000)\n",
    "thinkplot.Cdf(live_cdf)\n",
    "thinkplot.Cdf(thinkstats2.Cdf(resample, label='resample'))\n",
    "thinkplot.Config(xlabel='Birth weight (pounds)', ylabel='CDF')"
   ]
  },
  {
   "cell_type": "markdown",
   "metadata": {},
   "source": [
    "This confirms that the random sample has the same distribution as the original data."
   ]
  },
  {
   "cell_type": "markdown",
   "metadata": {
    "collapsed": true
   },
   "source": [
    "## Exercises"
   ]
  },
  {
   "cell_type": "markdown",
   "metadata": {
    "collapsed": true
   },
   "source": [
    "**Exercise:** How much did you weigh at birth? If you don’t know, call your mother or someone else who knows. Using the NSFG data (all live births), compute the distribution of birth weights and use it to find your percentile rank. If you were a first baby, find your percentile rank in the distribution for first babies. Otherwise use the distribution for others. If you are in the 90th percentile or higher, call your mother back and apologize."
   ]
  },
  {
   "cell_type": "code",
   "execution_count": 26,
   "metadata": {},
   "outputs": [
    {
     "data": {
      "text/plain": [
       "13.224845289938116"
      ]
     },
     "execution_count": 26,
     "metadata": {},
     "output_type": "execute_result"
    }
   ],
   "source": [
    "weight = 5.9375\n",
    "\n",
    "first_cdf.PercentileRank(weight)"
   ]
  },
  {
   "cell_type": "code",
   "execution_count": 27,
   "metadata": {
    "collapsed": true
   },
   "outputs": [],
   "source": [
    "# Solution goes here"
   ]
  },
  {
   "cell_type": "markdown",
   "metadata": {
    "collapsed": true
   },
   "source": [
    "**Exercise:** The numbers generated by `numpy.random.random` are supposed to be uniform between 0 and 1; that is, every value in the range should have the same probability.\n",
    "\n",
    "Generate 1000 numbers from `numpy.random.random` and plot their PMF.  What goes wrong?\n",
    "\n",
    "Now plot the CDF. Is the distribution uniform?"
   ]
  },
  {
   "cell_type": "code",
   "execution_count": 28,
   "metadata": {},
   "outputs": [],
   "source": [
    "random = np.random.random(size=1000)"
   ]
  },
  {
   "cell_type": "code",
   "execution_count": 30,
   "metadata": {},
   "outputs": [],
   "source": [
    "random_pmf = thinkstats2.Pmf(random, label='np random sample')"
   ]
  },
  {
   "cell_type": "code",
   "execution_count": 31,
   "metadata": {},
   "outputs": [
    {
     "data": {
      "image/png": "[encoded data removed]",
      "text/plain": [
       "<matplotlib.figure.Figure at 0x124413ad0>"
      ]
     },
     "metadata": {},
     "output_type": "display_data"
    }
   ],
   "source": [
    "thinkplot.Hist(random_pmf)\n",
    "thinkplot.Config(xlabel='Value', ylabel='PMF')"
   ]
  },
  {
   "cell_type": "markdown",
   "metadata": {},
   "source": [
    "There's nothing"
   ]
  },
  {
   "cell_type": "code",
   "execution_count": 32,
   "metadata": {},
   "outputs": [
    {
     "data": {
      "image/png": "[encoded data removed]",
      "text/plain": [
       "<matplotlib.figure.Figure at 0x1246c5350>"
      ]
     },
     "metadata": {},
     "output_type": "display_data"
    }
   ],
   "source": [
    "random_cdf = thinkstats2.Cdf(random, label='np random sample')\n",
    "thinkplot.Cdf(random_cdf)\n",
    "thinkplot.Config(xlabel='Value', ylabel='Cdf')"
   ]
  },
  {
   "cell_type": "code",
   "execution_count": 33,
   "metadata": {},
   "outputs": [
    {
     "data": {
      "text/plain": [
       "array([ 0.87945989,  0.04300868,  0.95723719,  0.44842475,  0.32985185,\n",
       "        0.2572941 ,  0.60798677,  0.349682  ,  0.63290116,  0.28210233,\n",
       "        0.8118285 ,  0.21963495,  0.86041928,  0.86163763,  0.6993864 ,\n",
       "        0.91283359,  0.54676649,  0.15856754,  0.37117497,  0.99060698,\n",
       "        0.04938052,  0.44028155,  0.68507338,  0.30834506,  0.87491737,\n",
       "        0.94930643,  0.48503193,  0.58061545,  0.51143499,  0.16264024,\n",
       "        0.15925179,  0.05219328,  0.39500661,  0.55056341,  0.84612349,\n",
       "        0.33724486,  0.87749587,  0.42695408,  0.94444655,  0.27760914,\n",
       "        0.29469049,  0.13470402,  0.60221737,  0.54154541,  0.27348508,\n",
       "        0.40456112,  0.66468986,  0.9465888 ,  0.41790864,  0.73524709,\n",
       "        0.91377141,  0.82304779,  0.47460192,  0.07646573,  0.92248329,\n",
       "        0.9705443 ,  0.0397872 ,  0.80798301,  0.05231956,  0.18027681,\n",
       "        0.95375318,  0.59001527,  0.31910093,  0.8588567 ,  0.63737198,\n",
       "        0.07130892,  0.30073925,  0.55381432,  0.36788041,  0.23003361,\n",
       "        0.04213433,  0.60537438,  0.49160211,  0.47268393,  0.27911289,\n",
       "        0.04429358,  0.00410616,  0.63279498,  0.24604994,  0.15147681,\n",
       "        0.83285451,  0.47224763,  0.02902723,  0.4664371 ,  0.12060445,\n",
       "        0.05525413,  0.28616734,  0.7499916 ,  0.43999662,  0.01599672,\n",
       "        0.15012134,  0.92746715,  0.96887413,  0.0567985 ,  0.99754264,\n",
       "        0.84148384,  0.51229571,  0.72043249,  0.94002502,  0.22812896,\n",
       "        0.47672983,  0.06914702,  0.48333849,  0.17410303,  0.88613117,\n",
       "        0.05649538,  0.10314084,  0.58487172,  0.80982204,  0.58066524,\n",
       "        0.18507493,  0.37870119,  0.18087463,  0.7305465 ,  0.08958431,\n",
       "        0.82364349,  0.07829999,  0.30243073,  0.02529989,  0.75027868,\n",
       "        0.39514986,  0.44021639,  0.5180459 ,  0.20357822,  0.81694325,\n",
       "        0.18317575,  0.46246623,  0.20781316,  0.77676747,  0.24188638,\n",
       "        0.84085859,  0.64664721,  0.62602299,  0.04621039,  0.14243083,\n",
       "        0.33019404,  0.9344684 ,  0.25249124,  0.71900642,  0.1164541 ,\n",
       "        0.57377812,  0.02121886,  0.47367904,  0.44288842,  0.75080402,\n",
       "        0.02584719,  0.11982171,  0.9461347 ,  0.78187483,  0.97115475,\n",
       "        0.74982387,  0.77417153,  0.23461276,  0.15356419,  0.70554216,\n",
       "        0.74319697,  0.82384044,  0.76372743,  0.11352318,  0.38832376,\n",
       "        0.87234183,  0.15805264,  0.15599874,  0.0772915 ,  0.66640828,\n",
       "        0.85753639,  0.5313291 ,  0.33969389,  0.22956722,  0.61413072,\n",
       "        0.33474269,  0.07531704,  0.46259429,  0.38774497,  0.58125017,\n",
       "        0.65552034,  0.60147973,  0.75837166,  0.86970931,  0.65900248,\n",
       "        0.06985271,  0.41422134,  0.37296227,  0.09079699,  0.32901678,\n",
       "        0.96185531,  0.10573299,  0.3601207 ,  0.4883598 ,  0.20139699,\n",
       "        0.63077285,  0.21753642,  0.81853637,  0.22101152,  0.73486025,\n",
       "        0.33212253,  0.26738876,  0.26288851,  0.78570577,  0.57654992,\n",
       "        0.4275425 ,  0.17545011,  0.33568893,  0.21722573,  0.72096587,\n",
       "        0.01412999,  0.19161633,  0.87507308,  0.37311866,  0.98485431,\n",
       "        0.20038357,  0.23945227,  0.10322552,  0.02020827,  0.30178336,\n",
       "        0.39712051,  0.184157  ,  0.55793543,  0.45323799,  0.45054452,\n",
       "        0.74355111,  0.37637147,  0.68164077,  0.09848234,  0.67869979,\n",
       "        0.47030248,  0.96364572,  0.63042212,  0.01535154,  0.06394534,\n",
       "        0.69328345,  0.1452303 ,  0.19691468,  0.98572085,  0.12814521,\n",
       "        0.11659724,  0.43489801,  0.12152358,  0.95510183,  0.11710336,\n",
       "        0.42805986,  0.22991643,  0.74087568,  0.64725703,  0.46664484,\n",
       "        0.23522746,  0.51890441,  0.65424323,  0.44826116,  0.14540772,\n",
       "        0.75553795,  0.27457294,  0.70209686,  0.28758551,  0.43726942,\n",
       "        0.59309271,  0.56722576,  0.51979571,  0.48477018,  0.63165012,\n",
       "        0.53597548,  0.28604383,  0.61888965,  0.06090036,  0.57536564,\n",
       "        0.3398829 ,  0.46322919,  0.22890669,  0.62263068,  0.64223298,\n",
       "        0.28047021,  0.93348754,  0.04138668,  0.12756321,  0.52629629,\n",
       "        0.32412293,  0.88272121,  0.25071495,  0.09096282,  0.8396558 ,\n",
       "        0.56391239,  0.81923457,  0.94841434,  0.11134163,  0.76896476,\n",
       "        0.43866475,  0.36191089,  0.46021276,  0.43039672,  0.53101284,\n",
       "        0.95124597,  0.32738884,  0.74069857,  0.69538416,  0.13046346,\n",
       "        0.91843309,  0.42354738,  0.52480618,  0.83481937,  0.88785184,\n",
       "        0.66156142,  0.83429742,  0.28442912,  0.8302494 ,  0.65228539,\n",
       "        0.39117173,  0.61463869,  0.75714815,  0.19560489,  0.017044  ,\n",
       "        0.46698363,  0.16395986,  0.10476819,  0.03768503,  0.11711074,\n",
       "        0.11547485,  0.8234298 ,  0.52676737,  0.33452899,  0.31675391,\n",
       "        0.37721488,  0.54681645,  0.88046218,  0.39877369,  0.92512811,\n",
       "        0.90748989,  0.89982777,  0.77087992,  0.22565724,  0.10116635,\n",
       "        0.44488955,  0.02383668,  0.84933622,  0.48817726,  0.81946806,\n",
       "        0.79359005,  0.31046859,  0.61759069,  0.04252076,  0.90536281,\n",
       "        0.04817638,  0.88118063,  0.07569255,  0.33363982,  0.0411921 ,\n",
       "        0.98153218,  0.22288025,  0.22450501,  0.52545622,  0.12695427,\n",
       "        0.08644416,  0.89379988,  0.68284559,  0.36390417,  0.41985278,\n",
       "        0.80910966,  0.47216811,  0.83429158,  0.7751098 ,  0.91136238,\n",
       "        0.88728685,  0.83769151,  0.6525136 ,  0.51539107,  0.54268823,\n",
       "        0.40781545,  0.97320699,  0.3632992 ,  0.965375  ,  0.32858531,\n",
       "        0.78616109,  0.55828433,  0.15274688,  0.23584274,  0.06403074,\n",
       "        0.13217678,  0.6057288 ,  0.03991182,  0.94455105,  0.73668291,\n",
       "        0.78167912,  0.7235619 ,  0.96774986,  0.48339246,  0.93760932,\n",
       "        0.55324053,  0.31473019,  0.06780885,  0.30661453,  0.61328829,\n",
       "        0.44621285,  0.61397612,  0.6593974 ,  0.83225993,  0.22721649,\n",
       "        0.84383166,  0.94338186,  0.68779761,  0.25718466,  0.94470729,\n",
       "        0.58509182,  0.85813322,  0.71412214,  0.74805836,  0.52658234,\n",
       "        0.59603398,  0.5699921 ,  0.12345074,  0.00379401,  0.17118954,\n",
       "        0.21868857,  0.47087957,  0.28567457,  0.50663935,  0.82019238,\n",
       "        0.16476076,  0.49361574,  0.10992437,  0.73506482,  0.34499969,\n",
       "        0.39386971,  0.97791625,  0.46987189,  0.33948127,  0.56135851,\n",
       "        0.7530495 ,  0.79793266,  0.86575553,  0.34618019,  0.37549417,\n",
       "        0.59296051,  0.78844026,  0.69034894,  0.58029638,  0.76175535,\n",
       "        0.18403225,  0.17530624,  0.45176149,  0.99712874,  0.77815664,\n",
       "        0.59609432,  0.46838716,  0.49654451,  0.96020905,  0.59697302,\n",
       "        0.96755409,  0.80776452,  0.13754819,  0.63837503,  0.38194329,\n",
       "        0.52896505,  0.59784696,  0.32128016,  0.17604256,  0.40791652,\n",
       "        0.87761517,  0.37687128,  0.51982748,  0.39700717,  0.89027616,\n",
       "        0.3706922 ,  0.42746721,  0.54225267,  0.23537131,  0.68647477,\n",
       "        0.20209194,  0.99968963,  0.20942753,  0.24461336,  0.92838777,\n",
       "        0.7859824 ,  0.60459822,  0.8758934 ,  0.50712754,  0.62146451,\n",
       "        0.92716809,  0.76738925,  0.86080954,  0.53072782,  0.62074498,\n",
       "        0.27053833,  0.15911379,  0.24088405,  0.16968217,  0.6067386 ,\n",
       "        0.07883637,  0.205192  ,  0.33352175,  0.97615971,  0.87069021,\n",
       "        0.87948193,  0.2163773 ,  0.14639344,  0.44136306,  0.46250658,\n",
       "        0.43626363,  0.8715903 ,  0.24192335,  0.30282363,  0.07251347,\n",
       "        0.97253257,  0.89496501,  0.80804966,  0.30842461,  0.79096935,\n",
       "        0.09732593,  0.70993031,  0.69597296,  0.52228656,  0.27793894,\n",
       "        0.6661178 ,  0.19280276,  0.54841004,  0.57139087,  0.1239977 ,\n",
       "        0.08012929,  0.36402365,  0.07335089,  0.96207354,  0.61832089,\n",
       "        0.97787373,  0.44004771,  0.46884648,  0.33010856,  0.04901973,\n",
       "        0.3531426 ,  0.44832922,  0.06065014,  0.36593703,  0.01268238,\n",
       "        0.14174557,  0.07345912,  0.87602225,  0.72404746,  0.57161764,\n",
       "        0.58404024,  0.8747144 ,  0.6405127 ,  0.01397877,  0.32745546,\n",
       "        0.27745605,  0.13104861,  0.33942619,  0.25659863,  0.37129214,\n",
       "        0.12643488,  0.80974085,  0.77070891,  0.124917  ,  0.01071952,\n",
       "        0.5570291 ,  0.65367598,  0.19710755,  0.48591109,  0.94853233,\n",
       "        0.0583411 ,  0.18234519,  0.22450046,  0.45845845,  0.52191735,\n",
       "        0.11269547,  0.34853998,  0.23389719,  0.55209004,  0.97628116,\n",
       "        0.82822201,  0.99404185,  0.18048063,  0.51804132,  0.96539171,\n",
       "        0.98795958,  0.14906104,  0.27843746,  0.34979786,  0.12003738,\n",
       "        0.68243038,  0.45324219,  0.14009317,  0.35994645,  0.86171945,\n",
       "        0.50204982,  0.20001426,  0.53609397,  0.87111329,  0.39780362,\n",
       "        0.33932918,  0.44799085,  0.56689391,  0.70689547,  0.64788453,\n",
       "        0.02625942,  0.4160507 ,  0.92942913,  0.20373034,  0.26620614,\n",
       "        0.10682059,  0.42891564,  0.51388482,  0.42208787,  0.78696876,\n",
       "        0.8275548 ,  0.79542757,  0.84514312,  0.15786966,  0.71167799,\n",
       "        0.59899712,  0.56081688,  0.25811077,  0.66014552,  0.40623928,\n",
       "        0.53287554,  0.14801041,  0.56433741,  0.47552778,  0.64728443,\n",
       "        0.99281302,  0.18744513,  0.16478975,  0.54059364,  0.61737897,\n",
       "        0.39884343,  0.22838815,  0.3730803 ,  0.45205738,  0.67784012,\n",
       "        0.72109494,  0.2696496 ,  0.23772022,  0.36528744,  0.36639581,\n",
       "        0.71325257,  0.49189092,  0.1038728 ,  0.7903777 ,  0.831489  ,\n",
       "        0.19184757,  0.30200976,  0.93047673,  0.42655614,  0.2392961 ,\n",
       "        0.56948299,  0.28876118,  0.39912981,  0.89717783,  0.35689966,\n",
       "        0.41194108,  0.02800378,  0.01457604,  0.81394239,  0.36470451,\n",
       "        0.97786441,  0.28989098,  0.92007417,  0.53211027,  0.55280746,\n",
       "        0.26009471,  0.07767188,  0.95321868,  0.51377667,  0.30859263,\n",
       "        0.21081163,  0.22970973,  0.69630549,  0.15771762,  0.53518517,\n",
       "        0.0878155 ,  0.04802815,  0.79420283,  0.83250578,  0.82322906,\n",
       "        0.29962716,  0.34316782,  0.48337776,  0.4030027 ,  0.14774502,\n",
       "        0.31910878,  0.22292351,  0.03476348,  0.46295127,  0.52869174,\n",
       "        0.724593  ,  0.86232716,  0.16702223,  0.28090108,  0.86873891,\n",
       "        0.88834004,  0.02397622,  0.62191757,  0.84691389,  0.86165398,\n",
       "        0.84737049,  0.05899324,  0.18091205,  0.26899388,  0.00911216,\n",
       "        0.80131136,  0.65145787,  0.309986  ,  0.48398577,  0.13362017,\n",
       "        0.76028741,  0.59677615,  0.70684656,  0.92688994,  0.77287073,\n",
       "        0.78521812,  0.07146989,  0.14905979,  0.99937887,  0.17489754,\n",
       "        0.1632091 ,  0.63560178,  0.22454545,  0.83765104,  0.24383906,\n",
       "        0.41835219,  0.26200782,  0.11574057,  0.21197571,  0.77236996,\n",
       "        0.6687143 ,  0.2127355 ,  0.27990817,  0.6606281 ,  0.12537188,\n",
       "        0.9227171 ,  0.00407293,  0.20190462,  0.72970872,  0.54957363,\n",
       "        0.61019163,  0.37289434,  0.5267471 ,  0.80890257,  0.51023757,\n",
       "        0.23475649,  0.05323073,  0.18457342,  0.35812385,  0.39339291,\n",
       "        0.75165379,  0.58014543,  0.08910942,  0.45204964,  0.0027278 ,\n",
       "        0.75988875,  0.42276896,  0.85679852,  0.12676292,  0.40713888,\n",
       "        0.06391073,  0.60072171,  0.34947393,  0.63820539,  0.93394893,\n",
       "        0.06420598,  0.68526184,  0.39735611,  0.60773751,  0.99228598,\n",
       "        0.51290723,  0.84296774,  0.42861763,  0.48305842,  0.87123871,\n",
       "        0.41152961,  0.45625823,  0.57978121,  0.39954457,  0.37750657,\n",
       "        0.85145853,  0.82887706,  0.03894293,  0.3370784 ,  0.36363313,\n",
       "        0.63995797,  0.40954894,  0.18982416,  0.84652049,  0.98350206,\n",
       "        0.09447565,  0.77430292,  0.54572097,  0.56482574,  0.82547713,\n",
       "        0.37009375,  0.56920844,  0.4777744 ,  0.65710387,  0.1617113 ,\n",
       "        0.72161215,  0.87795114,  0.58950421,  0.86548847,  0.36988831,\n",
       "        0.09845532,  0.98264158,  0.03013435,  0.1582034 ,  0.73122638,\n",
       "        0.75035112,  0.07767618,  0.10460275,  0.65157279,  0.23816519,\n",
       "        0.8128135 ,  0.94152432,  0.47802654,  0.93489481,  0.19148012,\n",
       "        0.3857324 ,  0.29730207,  0.8980874 ,  0.54012171,  0.72601597,\n",
       "        0.97135136,  0.24735259,  0.87954915,  0.45972278,  0.25470428,\n",
       "        0.62383847,  0.84948262,  0.73952209,  0.37894009,  0.02087449,\n",
       "        0.47133283,  0.59627229,  0.05955577,  0.32372747,  0.82755202,\n",
       "        0.87608636,  0.01055652,  0.10166698,  0.34974335,  0.30167219,\n",
       "        0.09054371,  0.89494205,  0.25047459,  0.24925949,  0.05745266,\n",
       "        0.60039405,  0.20904673,  0.15436893,  0.56732344,  0.70919289,\n",
       "        0.71204876,  0.65211166,  0.3897338 ,  0.99133299,  0.71743093,\n",
       "        0.21148108,  0.22073487,  0.18799473,  0.59740324,  0.80630874,\n",
       "        0.18258588,  0.35282576,  0.73386364,  0.49388982,  0.06009613,\n",
       "        0.861106  ,  0.2545113 ,  0.72029932,  0.63305898,  0.8555722 ,\n",
       "        0.90695086,  0.16207431,  0.04462214,  0.86108837,  0.21242083,\n",
       "        0.14927426,  0.55003629,  0.22716825,  0.87998363,  0.4272472 ,\n",
       "        0.87298843,  0.78047538,  0.91903597,  0.31274257,  0.41087575,\n",
       "        0.83862168,  0.21554645,  0.39369047,  0.52639092,  0.07967126,\n",
       "        0.95704572,  0.19492651,  0.95109407,  0.83580103,  0.39836435,\n",
       "        0.63789277,  0.51939465,  0.42866634,  0.36385697,  0.71384355,\n",
       "        0.39006734,  0.35086703,  0.33314617,  0.3707771 ,  0.14040289,\n",
       "        0.20430414,  0.5141213 ,  0.98391404,  0.52111545,  0.89736828,\n",
       "        0.12772353,  0.61051035,  0.16872273,  0.65333528,  0.05280199,\n",
       "        0.70239972,  0.29669744,  0.5449067 ,  0.02661791,  0.85579062,\n",
       "        0.05414801,  0.53425463,  0.74685024,  0.24729099,  0.85278048,\n",
       "        0.05736379,  0.03468083,  0.04383132,  0.45979722,  0.67523071,\n",
       "        0.74534774,  0.69317424,  0.00188839,  0.07717273,  0.98899244,\n",
       "        0.22522124,  0.62662152,  0.94124478,  0.42398464,  0.44510272,\n",
       "        0.98854459,  0.82217059,  0.30866834,  0.36337303,  0.49743734,\n",
       "        0.54885666,  0.5407559 ,  0.2711642 ,  0.8843651 ,  0.83445385,\n",
       "        0.948033  ,  0.53043547,  0.12219915,  0.38152749,  0.25476104,\n",
       "        0.56400124,  0.40579446,  0.58512325,  0.37367223,  0.471319  ,\n",
       "        0.30910975,  0.21510636,  0.53647834,  0.53200237,  0.86873261,\n",
       "        0.83953724,  0.26685215,  0.74287932,  0.1409854 ,  0.26338899,\n",
       "        0.94411244,  0.72177597,  0.01386537,  0.54007419,  0.96276494,\n",
       "        0.9871785 ,  0.91284017,  0.67978367,  0.95508811,  0.91658347,\n",
       "        0.6524982 ,  0.07344699,  0.39602583,  0.49515128,  0.13226056,\n",
       "        0.91822374,  0.32240318,  0.96431545,  0.0674621 ,  0.99124863,\n",
       "        0.46433724,  0.54906907,  0.52460118,  0.3378782 ,  0.93509774,\n",
       "        0.32546071,  0.65091164,  0.72496727,  0.646707  ,  0.06302666,\n",
       "        0.23205273,  0.62306531,  0.447266  ,  0.4695926 ,  0.17321263])"
      ]
     },
     "execution_count": 33,
     "metadata": {},
     "output_type": "execute_result"
    }
   ],
   "source": [
    "random"
   ]
  },
  {
   "cell_type": "raw",
   "metadata": {},
   "source": []
  }
 ],
 "metadata": {
  "kernelspec": {
   "display_name": "Python 2",
   "language": "python",
   "name": "python2"
  },
  "language_info": {
   "codemirror_mode": {
    "name": "ipython",
    "version": 2
   },
   "file_extension": ".py",
   "mimetype": "text/x-python",
   "name": "python",
   "nbconvert_exporter": "python",
   "pygments_lexer": "ipython2",
   "version": "2.7.13"
  }
 },
 "nbformat": 4,
 "nbformat_minor": 1
}
